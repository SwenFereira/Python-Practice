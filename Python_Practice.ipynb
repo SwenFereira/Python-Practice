{
  "nbformat": 4,
  "nbformat_minor": 0,
  "metadata": {
    "colab": {
      "provenance": [],
      "authorship_tag": "ABX9TyNMfJd3UUCCKrWzQf3hPZWW",
      "include_colab_link": true
    },
    "kernelspec": {
      "name": "python3",
      "display_name": "Python 3"
    },
    "language_info": {
      "name": "python"
    }
  },
  "cells": [
    {
      "cell_type": "markdown",
      "metadata": {
        "id": "view-in-github",
        "colab_type": "text"
      },
      "source": [
        "<a href=\"https://colab.research.google.com/github/SwenFereira/Python-Practice/blob/main/Python_Practice.ipynb\" target=\"_parent\"><img src=\"https://colab.research.google.com/assets/colab-badge.svg\" alt=\"Open In Colab\"/></a>"
      ]
    },
    {
      "cell_type": "code",
      "execution_count": 2,
      "metadata": {
        "id": "UtPO4grDGp_6",
        "colab": {
          "base_uri": "https://localhost:8080/"
        },
        "outputId": "d60cf743-919a-469c-bafb-09b47e513ba5"
      },
      "outputs": [
        {
          "output_type": "stream",
          "name": "stdout",
          "text": [
            "Enter a number8\n",
            "8 is not a perfect number\n"
          ]
        }
      ],
      "source": [
        "# Write a python program to check a given number is perfect or not.\n",
        "\n",
        "num= int(input('Enter a number'))\n",
        "summ=0\n",
        "for i in range(1,num):\n",
        "  if (num%i==0):\n",
        "    summ=summ+i \n",
        "if (summ==num):\n",
        "  print(num,'is a perfect number')\n",
        "else:\n",
        "  print(num,'is not a perfect number')\n"
      ]
    },
    {
      "cell_type": "code",
      "source": [
        "# Write a python program to check a given number is perfect or not.\n",
        "num=int(input())\n",
        "summ=0\n",
        "for i in range(1,num):\n",
        "  if num%i==0:\n",
        "    summ=summ+i\n",
        "if summ==num:\n",
        "  print(num,'is a perfect number')  \n",
        "else:\n",
        "  print(num,'is not a perfect number')\n"
      ],
      "metadata": {
        "colab": {
          "base_uri": "https://localhost:8080/"
        },
        "id": "NbGrn1EElClO",
        "outputId": "9b997729-ad4a-48f6-d175-a18942ee0619"
      },
      "execution_count": 3,
      "outputs": [
        {
          "output_type": "stream",
          "name": "stdout",
          "text": [
            "6\n",
            "6 is a perfect number\n"
          ]
        }
      ]
    },
    {
      "cell_type": "code",
      "source": [
        "# Write a Python program to check whether a String is Palindrome or not?\n",
        "\n",
        "string=input()\n",
        "\n",
        "def palindrone(string):\n",
        "  reverse=string[::-1]\n",
        "  if string==reverse:\n",
        "    print(string,'is a palindrone')\n",
        "  else:\n",
        "     print(string,'is not a palindrone')\n",
        "\n",
        "# function call \n",
        "palindrone(string)"
      ],
      "metadata": {
        "colab": {
          "base_uri": "https://localhost:8080/"
        },
        "id": "Kgn6NpjSln_t",
        "outputId": "1b36cb18-3525-491d-e1fc-f837709ca9cb"
      },
      "execution_count": 5,
      "outputs": [
        {
          "output_type": "stream",
          "name": "stdout",
          "text": [
            "nitin\n",
            "nitin is a palindrone\n"
          ]
        }
      ]
    },
    {
      "cell_type": "code",
      "source": [
        "string=input()\n",
        "\n",
        "def palindrone(string):\n",
        "  reverse= string[::-1]\n",
        "  if string==reverse :\n",
        "    print(string,'is a palindrone')\n",
        "  else:\n",
        "    print(string,'is not a palindrone')\n",
        "\n",
        "palindrone(string)    \n"
      ],
      "metadata": {
        "colab": {
          "base_uri": "https://localhost:8080/"
        },
        "id": "U6xWqnj6ohz4",
        "outputId": "d7c344ff-fdee-4529-dfd4-60324b222f54"
      },
      "execution_count": 6,
      "outputs": [
        {
          "output_type": "stream",
          "name": "stdout",
          "text": [
            "swen\n",
            "swen is not a palindrone\n"
          ]
        }
      ]
    },
    {
      "cell_type": "code",
      "source": [
        "# Write a python program to remove a given character from string.\n",
        "\n",
        "string= input()\n",
        "character = input()\n",
        "print(string.replace(character,' '))"
      ],
      "metadata": {
        "colab": {
          "base_uri": "https://localhost:8080/"
        },
        "id": "jCCdP2AYpQf1",
        "outputId": "4b4e6651-757f-4683-c79a-15dd800eea86"
      },
      "execution_count": 7,
      "outputs": [
        {
          "output_type": "stream",
          "name": "stdout",
          "text": [
            "Swen \n",
            "e\n",
            "Sw n \n"
          ]
        }
      ]
    },
    {
      "cell_type": "code",
      "source": [
        "string=input()\n",
        "character = input()\n",
        "print(string.replace(character,' '))"
      ],
      "metadata": {
        "colab": {
          "base_uri": "https://localhost:8080/"
        },
        "id": "vBI7tzncsSF2",
        "outputId": "b7e38346-008b-40c2-ac92-d677c66519bd"
      },
      "execution_count": 8,
      "outputs": [
        {
          "output_type": "stream",
          "name": "stdout",
          "text": [
            "hello\n",
            "l\n",
            "he  o\n"
          ]
        }
      ]
    },
    {
      "cell_type": "code",
      "source": [
        "# Write a Python program to swap two number without using third variable.\n",
        "\n",
        "a = int(input())\n",
        "b = int(input())\n",
        "\n",
        "a=a-b\n",
        "b=a+b\n",
        "a=b-a\n",
        "\n",
        "print(\"after swaping\")\n",
        "print(a)\n",
        "print(b)"
      ],
      "metadata": {
        "colab": {
          "base_uri": "https://localhost:8080/"
        },
        "id": "tmmf4m0qsi1M",
        "outputId": "15dd8053-37f4-4c72-eb07-e03b2c0f7218"
      },
      "execution_count": 10,
      "outputs": [
        {
          "output_type": "stream",
          "name": "stdout",
          "text": [
            "5\n",
            "0\n",
            "after swaping\n",
            "0\n",
            "5\n"
          ]
        }
      ]
    },
    {
      "cell_type": "code",
      "source": [],
      "metadata": {
        "id": "VMq5qYnvuZDI"
      },
      "execution_count": null,
      "outputs": []
    }
  ]
}